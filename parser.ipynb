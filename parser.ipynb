{
 "cells": [
  {
   "cell_type": "code",
   "execution_count": 9,
   "metadata": {},
   "outputs": [
    {
     "name": "stdout",
     "output_type": "stream",
     "text": [
      "[2178, 618, 326, 253, 214, 260, 141, 195, 92, 86]\n",
      "[1.0, 2.0, 3.0, 4.0, 5.0, 6.0, 7.0, 8.0, 9.0, 10.0]\n",
      "[(1.0, 2178), (2.0, 618), (3.0, 326)]\n"
     ]
    },
    {
     "data": {
      "image/png": "[encoded data removed]",
      "text/plain": [
       "<matplotlib.figure.Figure at 0x1065e42d0>"
      ]
     },
     "metadata": {},
     "output_type": "display_data"
    }
   ],
   "source": [
    "import csv\n",
    "import collections\n",
    "import matplotlib.pyplot as plt\n",
    "\n",
    "def parse(path_feature = 'train_data.csv.xls', path_labels = 'train_labels.csv.xls'):\n",
    "    X = []\n",
    "    with open(path_feature, 'r') as csvfile:\n",
    "        reader = csv.reader(csvfile, delimiter=',')\n",
    "        for row in reader:\n",
    "            X.append([float(i) for i in row])\n",
    "\n",
    "    Y = []\n",
    "    with open(path_labels, 'r') as csvfile:\n",
    "        reader = csv.reader(csvfile)\n",
    "        for row in reader:\n",
    "            Y.append(float(row[0]))\n",
    "            \n",
    "    return X,Y\n",
    "\n",
    "\n",
    "features, labels = parse()\n",
    "\n",
    "counter=collections.Counter(labels)\n",
    "print(counter.values())\n",
    "print(counter.keys())\n",
    "print(counter.most_common(3))\n",
    "\n",
    "width = 1/1.5\n",
    "plt.bar(counter.keys(), counter.values() , width, color=\"blue\")\n",
    "plt.show()\n",
    "# [(1, 4), (2, 4), (3, 2)]"
   ]
  },
  {
   "cell_type": "code",
   "execution_count": null,
   "metadata": {
    "collapsed": true
   },
   "outputs": [],
   "source": []
  }
 ],
 "metadata": {
  "kernelspec": {
   "display_name": "Python 2",
   "language": "python",
   "name": "python2"
  },
  "language_info": {
   "codemirror_mode": {
    "name": "ipython",
    "version": 2
   },
   "file_extension": ".py",
   "mimetype": "text/x-python",
   "name": "python",
   "nbconvert_exporter": "python",
   "pygments_lexer": "ipython2",
   "version": "2.7.14"
  }
 },
 "nbformat": 4,
 "nbformat_minor": 2
}
